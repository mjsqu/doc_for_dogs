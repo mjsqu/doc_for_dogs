{
 "cells": [
  {
   "cell_type": "code",
   "execution_count": 11,
   "metadata": {},
   "outputs": [
    {
     "name": "stdout",
     "output_type": "stream",
     "text": [
      "[{\"assetId\":\"f6f80dfc-8197-4a38-b45b-1fc1dd55c408\",\"name\":\"Mangahorehore Track\",\"region\":[\"Northland\"],\"x\":1665273.3633,\"y\":6104469.7998,\"line\":[[[1666241.1942,6103313.7594],[1666201.5755,6103373.7946\n",
      "{'assetId': '1e72f18c-a04b-448b-95c5-2ce387948372', 'name': 'Te Iringa Track', 'region': ['Central North Island'], 'x': 1878578.7107, 'y': 5678978.864, 'line': [[[1879546.0564, 5674912.7921], [1879489.5903, 5674940.2294], [1879501.5313, 5674971.6442], [1879491.0491, 5674989.5823], [1879429.7298, 5674994.0222], [1879428.1839, 5675059.8227], [1879468.4422, 5675218.3764], [1879441.503, 5675245.2745], [1879260.4775, 5675336.3634], [1879205.1055, 5675387.1682], [1879164.7305, 5675382.6503], [1879037.417, 5675639.7788], [1878934.1847, 5675695.0333], [1878898.2378, 5675766.7899], [1878892.2188, 5675816.137], [1878859.2916, 5675850.5078], [1878808.4583, 5675832.5231], [1878790.5031, 5675844.474], [1878775.4683, 5675949.1472], [1878753.0132, 5675977.5436], [1878755.9781, 5676011.9428], [1878729.0356, 5676043.3279], [1878739.447, 5676118.1099], [1878724.4761, 5676139.0355], [1878716.9254, 5676234.7409], [1878675.0453, 5676242.1863], [1878679.5109, 5676269.1092], [1878660.0789, 5676257.1297], [1878661.5351, 5676307.9775], [1878621.1865, 5676269.0646], [1878609.2079, 5676288.4964], [1878595.763, 5676269.0451], [1878573.317, 5676286.9739], [1878532.9673, 5676249.5551], [1878444.7333, 5676247.9926], [1878435.7264, 5676292.85], [1878465.6293, 5676301.8463], [1878474.5856, 5676324.2854], [1878443.1443, 5676370.6217], [1878510.3814, 5676449.9344], [1878480.4764, 5676442.4341], [1878487.9309, 5676472.3494], [1878462.5189, 5676457.3751], [1878399.644, 5676541.0743], [1878415.9698, 5676704.0954], [1878460.8057, 5676741.5167], [1878545.9392, 5676885.1497], [1878536.9289, 5676932.9983], [1878548.873, 5676958.4308], [1878515.9491, 5676988.3151], [1878575.7293, 5677040.7029], [1878595.1036, 5677127.4564], [1878671.2438, 5677296.5061], [1878708.6206, 5677309.9947], [1878717.5734, 5677336.92], [1878692.0956, 5677407.1882], [1878712.9358, 5677532.8261], [1878708.3699, 5677634.5161], [1878654.3902, 5677818.4204], [1878587.0644, 5677854.2603], [1878540.6388, 5677937.9718], [1878417.9716, 5677984.2373], [1878428.3752, 5678067.9928], [1878393.9548, 5678099.3708], [1878432.8149, 5678129.3115], [1878437.2651, 5678175.6744], [1878420.806, 5678186.1302], [1878456.6737, 5678217.5637], [1878464.1186, 5678259.4427], [1878494.0154, 5678277.4119], [1878514.8819, 5678367.1579], [1878541.7956, 5678374.6562], [1878535.7667, 5678434.4718], [1878600.0643, 5678446.4854], [1878603.0333, 5678474.9023], [1878583.5853, 5678482.3645], [1878589.5397, 5678518.2611], [1878629.9321, 5678500.3465], [1878655.3311, 5678531.771], [1878673.2889, 5678516.8301], [1878656.7841, 5678585.61], [1878626.8627, 5678600.5415], [1878611.8692, 5678649.8814], [1878629.7884, 5678684.2922], [1878605.8634, 5678679.7863], [1878586.4094, 5678696.2221], [1878583.3597, 5678770.9937], [1878614.6965, 5678859.2528], [1878581.7675, 5678895.119], [1878578.7107, 5678978.864], [1878521.8203, 5679056.5848], [1878499.4173, 5679019.1803], [1878491.9293, 5679032.6342], [1878494.8219, 5679158.257], [1878458.8957, 5679201.5982], [1878472.3215, 5679244.978], [1878412.4786, 5679273.3457], [1878397.539, 5679253.893], [1878384.0404, 5679303.233], [1878354.1283, 5679306.2008], [1878373.554, 5679327.1531], [1878376.4866, 5679400.4342], [1878334.6013, 5679415.3562], [1878370.4734, 5679440.8076], [1878382.3866, 5679505.1233], [1878439.203, 5679521.6176], [1878458.6065, 5679569.4894], [1878491.4839, 5679599.4247], [1878424.1068, 5679701.0652], [1878448.0047, 5679738.471], [1878442.0117, 5679751.926], [1878427.0451, 5679766.869], [1878391.16, 5679757.8684], [1878400.0899, 5679813.2083], [1878383.6354, 5679817.6816], [1878435.9396, 5679867.0743], [1878531.6171, 5679910.5187], [1878612.3126, 5679988.3473], [1878613.7165, 5680104.9967], [1878642.1206, 5680118.4788], [1878673.5432, 5680096.0713], [1878715.3374, 5680197.7977], [1878758.6846, 5680226.2464], [1878760.1158, 5680307.0039], [1878782.5233, 5680338.4263], [1878791.4424, 5680407.2261], [1878776.4614, 5680440.1161], [1878789.8691, 5680505.9283], [1878715.0627, 5680544.7514], [1878777.8024, 5680634.5309], [1878777.7585, 5680689.8639], [1878702.9862, 5680686.8146], [1878690.9954, 5680719.706], [1878714.8823, 5680772.0667], [1878723.8655, 5680758.6141], [1878774.6533, 5680833.4293], [1878810.4647, 5680935.1513], [1878804.4596, 5680965.0562], [1878865.6874, 5681075.7719], [1878940.4216, 5681126.6779], [1878955.3861, 5681114.7251], [1878935.9627, 5681092.2774], [1878995.7575, 5681123.7306], [1878986.8028, 5681101.2912], [1879004.7561, 5681092.3319], [1879055.5628, 5681143.2191], [1879080.9329, 5681210.537], [1879107.8373, 5681228.5044], [1879149.6358, 5681324.2491], [1879155.5812, 5681370.6144], [1879134.6259, 5681393.0301], [1879206.3163, 5681511.2319], [1879251.1574, 5681541.1772], [1879251.1442, 5681557.6272], [1879227.2205, 5681551.6268], [1879213.7257, 5681596.4807], [1879221.1626, 5681647.3336], [1879183.712, 5681725.0703], [1879156.7909, 5681728.039], [1879144.7996, 5681762.4265], [1879158.2513, 5681771.4097], [1879134.3237, 5681771.3907], [1879126.7996, 5681829.709], [1879149.2297, 5681832.7181], [1879147.6869, 5681891.0412], [1879234.2912, 5682060.1021], [1879252.2458, 5682049.6478], [1879265.6925, 5682066.1095], [1879280.6726, 5682034.7156], [1879295.6048, 5682063.1422], [1879318.0649, 5682028.7631], [1879347.9351, 5682079.6339], [1879319.4867, 5682121.4857], [1879311.972, 5682167.8404], [1879228.2223, 5682169.2686], [1879273.0452, 5682221.6465], [1879241.6548, 5682202.1803], [1879272.9624, 5682324.8365], [1879322.275, 5682374.2278], [1879328.2288, 5682408.6286], [1879325.2218, 5682429.5634], [1879293.8037, 5682444.4932], [1879308.7118, 5682502.8296], [1879253.3733, 5682508.7676], [1879253.3348, 5682556.6234], [1879199.4373, 5682629.8596], [1879224.8189, 5682682.222], [1879214.2478, 5682809.3309], [1879238.1704, 5682816.8286], [1879236.6634, 5682830.2862], [1879218.71, 5682839.2453], [1879214.1815, 5682891.5837], [1879176.7808, 5682908.0047], [1879166.2421, 5682994.7353], [1879148.2923, 5682999.2071], [1879145.2625, 5683047.0605], [1879115.332, 5683072.4599], [1879089.4795, 5683139.2217]]]}\n"
     ]
    }
   ],
   "source": [
    "with open(\"samples/tracks.json\",'r',encoding='utf8') as f:\n",
    "    ndtracks = f.read()\n",
    "\n",
    "print(ndtracks[0:200])\n",
    "import json\n",
    "jsontracks = json.loads(ndtracks)\n",
    "print(jsontracks[1])\n"
   ]
  },
  {
   "cell_type": "code",
   "execution_count": 17,
   "metadata": {},
   "outputs": [],
   "source": [
    "alltracks = []\n",
    "for t in jsontracks:\n",
    "     alltracks.append(t[\"assetId\"])\n"
   ]
  },
  {
   "cell_type": "code",
   "execution_count": 21,
   "metadata": {},
   "outputs": [
    {
     "name": "stdout",
     "output_type": "stream",
     "text": [
      "<Response [200]>\n",
      "b'{\"assetId\":\"f6f80dfc-8197-4a38-b45b-1fc1dd55c408\",\"name\":\"Mangahorehore Track\",\"introduction\":\"This track is closed permanently due to the risk of kauri dieback disease.\",\"introductionThumbnail\":\"https://www.doc.govt.nz/images/no-photo/no-photo-220x140.jpg\",\"permittedActivities\":[],\"distance\":null,\"walkDuration\":null,\"walkDurationCategory\":[],\"walkTrackCategory\":[],\"wheelchairsAndBuggies\":null,\"mtbDuration\":null,\"mtbDurationCategory\":[],\"mtbTrackCategory\":[],\"kayakingDuration\":null,\"dogsAllowed\":\"Not Applicable\",\"locationString\":\"Located in Puketi and Omahuta Forests\",\"locationArray\":[\"Puketi and Omahuta Forests\"],\"region\":[\"Northland\"],\"staticLink\":\"https://www.doc.govt.nz/link/f6f80dfc81974a38b45b1fc1dd55c408.aspx\",\"x\":1665273.3633,\"y\":6104469.7998,\"line\":[[[1666241.1942,6103313.7594],[1666201.5755,6103373.7946],[1666104.4892,6103422.7119],[1665925.1587,6103427.8292],[1665777.0753,6103633.5373],[1665673.9385,6103702.3291],[1665658.3468,6103739.1702],[1665604.2198,6103758.6161],[1665557.0681,6103823.2598],[1665474.5331,6103887.8087],[1665349.4456,6103942.0482],[1665259.4357,6103961.298],[1665214.9617,6103996.5624],[1664939.5994,6103955.743],[1664912.4459,6103980.3587],[1664935.0036,6103992.2137],[1665006.7644,6104106.0533],[1665135.6919,6104259.6279],[1665138.4061,6104328.3033],[1665273.3633,6104469.7998],[1665254.5887,6104538.0179],[1665292.1591,6104542.5166],[1665291.0072,6104636.4701],[1665349.6499,6104684.905],[1665332.3994,6104706.6487],[1665350.7554,6104704.5461],[1665331.3569,6104722.6385],[1665299.3827,6104718.5546],[1665273.2346,6104744.3285],[1665314.1211,6104813.3503],[1665323.3356,6104880.7439],[1665361.1931,6104927.224],[1665429.3385,6104935.8029],[1665482.931,6104892.1668],[1665623.5964,6104918.0323],[1665724.4649,6104986.7713],[1665803.9344,6104984.4855],[1665834.6034,6105027.9478],[1665881.7979,6105059.0601],[1665923.2036,6105124.2412],[1665963.4337,6105143.3403],[1666015.2689,6105116.5098],[1666069.5111,6105114.5692],[1666217.3299,6105221.3517],[1666321.6413,6105217.4594],[1666365.5253,6105188.3734],[1666430.2135,6105180.2027],[1666597.0028,6105214.0256],[1666655.3331,6105243.3867],[1666780.301,6105380.2162]]]}'\n"
     ]
    }
   ],
   "source": [
    "import requests\n",
    "DOC_API_KEY = \"\"\n",
    "APITRACK = \"https://api.doc.govt.nz/v1/tracks\"\n",
    "r = requests.get(APITRACK + \"/\" + alltracks[0] + \"/detail\", headers={\"x-api-key\": DOC_API_KEY})\n",
    "print(r)\n",
    "print(r.content)\n",
    "onetrack = r.json()"
   ]
  },
  {
   "cell_type": "code",
   "execution_count": null,
   "metadata": {},
   "outputs": [],
   "source": []
  },
  {
   "cell_type": "code",
   "execution_count": 46,
   "metadata": {},
   "outputs": [
    {
     "name": "stdout",
     "output_type": "stream",
     "text": [
      "['Mangahorehore Track', 'Te Iringa Track', 'Twin Kauri Track', 'Waihoanga Gorge Kauri Walk', 'Pandora Track', 'Te Waiti Nature Trail', 'Maungauika/North Head Historic Walk', 'Birch Creek access route', 'Black Hill Hut tracks', 'Borland Nature Walk', 'Borland Road to Monowai Hut Track', 'Chalice–Goulter Track', 'Cloustons Mine Track', 'Cullen Point tracks', 'Dawson Falls - Stratford Plateau tracks', 'Deadmans Track', 'Falls Creek Route', 'Fanthams Peak/Panitahi and Syme Hut Track', 'Gertrude Saddle Route', 'Hut Creek Track'] ['Not Applicable', 'Dogs with a DOC permit only. Contact the relevant DOC office to obtain a permit.', 'Not Applicable', 'Not Applicable', 'Dogs with a DOC permit for recreational hunting or management purposes only', 'Dogs with a DOC permit only. Contact the relevant DOC office to obtain a permit.', 'Dogs on a leash only', 'No dogs', 'Dogs on a leash only', 'No dogs', 'No dogs', 'Dogs with a DOC permit only. Contact the relevant DOC office to obtain a permit.', 'No dogs', 'Dogs with a DOC permit only. Contact the relevant DOC office to obtain a permit.', 'No dogs', 'No dogs', 'No dogs', 'No dogs', 'No dogs', 'No dogs']\n",
      "['No dogs']\n"
     ]
    }
   ],
   "source": [
    "sometracks = []\n",
    "somedogs = []\n",
    "for i in alltracks[:20]:\n",
    "    r = requests.get(APITRACK + \"/\" + i + \"/detail\", headers={\"x-api-key\": DOC_API_KEY})\n",
    "    tname = r.json()[\"name\"]\n",
    "    sometracks.append(tname)\n",
    "    tdogs = r.json()[\"dogsAllowed\"]\n",
    "    somedogs.append(tdogs)\n",
    "print(sometracks, somedogs)\n",
    "\n",
    "\n"
   ]
  },
  {
   "cell_type": "code",
   "execution_count": 59,
   "metadata": {},
   "outputs": [
    {
     "name": "stdout",
     "output_type": "stream",
     "text": [
      "[['Not Applicable', 'Dogs with a DOC permit only. Contact the relevant DOC office to obtain a permit.', 'Not Applicable', 'Not Applicable', 'Dogs with a DOC permit for recreational hunting or management purposes only', 'Dogs with a DOC permit only. Contact the relevant DOC office to obtain a permit.', 'Dogs on a leash only', 'No dogs', 'Dogs on a leash only', 'No dogs', 'No dogs', 'Dogs with a DOC permit only. Contact the relevant DOC office to obtain a permit.', 'No dogs', 'Dogs with a DOC permit only. Contact the relevant DOC office to obtain a permit.', 'No dogs', 'No dogs', 'No dogs', 'No dogs', 'No dogs', 'No dogs']]\n",
      "{'Dogs with a DOC permit for recreational hunting or management purposes only', 'Dogs on a leash only', 'Dogs with a DOC permit only. Contact the relevant DOC office to obtain a permit.', 'No dogs', 'Not Applicable'}\n"
     ]
    }
   ],
   "source": [
    "print([somedogs])\n",
    "dogset = set(somedogs)\n",
    "#for i in somedogs:\n",
    "#    dogset = dogset.add(i)\n",
    "print(dogset)"
   ]
  },
  {
   "cell_type": "code",
   "execution_count": 81,
   "metadata": {},
   "outputs": [
    {
     "name": "stdout",
     "output_type": "stream",
     "text": [
      "['1e72f18c-a04b-448b-95c5-2ce387948372', '14285087-d692-496a-a711-26db46312366', '9a8a72b5-f5f1-4025-ba69-6a1b601e4aeb', '8ac1b141-afb5-4242-a122-8f5355d09970', 'ac0aacea-8f94-4f38-b088-6344f03539fc', 'd004fcd6-2bf9-4630-88ec-9ec9b9cbc344', '3ff8db68-624c-4737-aab9-0ff9c2795d5e']\n",
      "[{'assetid': '1e72f18c-a04b-448b-95c5-2ce387948372', 'name': 'Te Iringa Track', 'dogsallowed': 'Dogs with a DOC permit only. Contact the relevant DOC office to obtain a permit.'}, {'assetid': '14285087-d692-496a-a711-26db46312366', 'name': 'Pandora Track', 'dogsallowed': 'Dogs with a DOC permit for recreational hunting or management purposes only'}, {'assetid': '9a8a72b5-f5f1-4025-ba69-6a1b601e4aeb', 'name': 'Te Waiti Nature Trail', 'dogsallowed': 'Dogs with a DOC permit only. Contact the relevant DOC office to obtain a permit.'}, {'assetid': '8ac1b141-afb5-4242-a122-8f5355d09970', 'name': 'Maungauika/North Head Historic Walk', 'dogsallowed': 'Dogs on a leash only'}, {'assetid': 'ac0aacea-8f94-4f38-b088-6344f03539fc', 'name': 'Black Hill Hut tracks', 'dogsallowed': 'Dogs on a leash only'}, {'assetid': 'd004fcd6-2bf9-4630-88ec-9ec9b9cbc344', 'name': 'Chalice–Goulter Track', 'dogsallowed': 'Dogs with a DOC permit only. Contact the relevant DOC office to obtain a permit.'}, {'assetid': '3ff8db68-624c-4737-aab9-0ff9c2795d5e', 'name': 'Cullen Point tracks', 'dogsallowed': 'Dogs with a DOC permit only. Contact the relevant DOC office to obtain a permit.'}]\n"
     ]
    }
   ],
   "source": [
    "\n",
    "dogs = [index for index, dog in enumerate(somedogs) if (dog not in ('Not Applicable','No dogs')) ]\n",
    "\n",
    "\n",
    "dogtracks = []\n",
    "dogtracktype = []\n",
    "dtassetids = []\n",
    "listtracks = []\n",
    "dictdogs = {}\n",
    "for i in dogs:\n",
    "    dogtracks.append(sometracks[i])\n",
    "    dogtracktype.append(somedogs[i])\n",
    "    dtassetids.append(alltracks[i])\n",
    "    dictdogs = {\"assetid\": alltracks[i], \"name\": sometracks[i], \"dogsallowed\": somedogs[i]}\n",
    "    listtracks.append(dictdogs)\n",
    "print(dtassetids)\n",
    "print(listtracks)\n",
    "\n"
   ]
  }
 ],
 "metadata": {
  "kernelspec": {
   "display_name": "Python 3",
   "language": "python",
   "name": "python3"
  },
  "language_info": {
   "codemirror_mode": {
    "name": "ipython",
    "version": 3
   },
   "file_extension": ".py",
   "mimetype": "text/x-python",
   "name": "python",
   "nbconvert_exporter": "python",
   "pygments_lexer": "ipython3",
   "version": "3.11.4"
  },
  "orig_nbformat": 4
 },
 "nbformat": 4,
 "nbformat_minor": 2
}
